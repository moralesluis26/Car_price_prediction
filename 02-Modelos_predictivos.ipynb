{
  "nbformat": 4,
  "nbformat_minor": 0,
  "metadata": {
    "colab": {
      "provenance": [],
      "authorship_tag": "ABX9TyM/B/Ap0iBiqlxQbLolPzem",
      "include_colab_link": true
    },
    "kernelspec": {
      "name": "python3",
      "display_name": "Python 3"
    },
    "language_info": {
      "name": "python"
    }
  },
  "cells": [
    {
      "cell_type": "markdown",
      "metadata": {
        "id": "view-in-github",
        "colab_type": "text"
      },
      "source": [
        "<a href=\"https://colab.research.google.com/github/moralesluis26/Car_price_prediction/blob/main/02-Modelos_predictivos.ipynb\" target=\"_parent\"><img src=\"https://colab.research.google.com/assets/colab-badge.svg\" alt=\"Open In Colab\"/></a>"
      ]
    },
    {
      "cell_type": "markdown",
      "source": [
        "# **1. Preparación de datos**"
      ],
      "metadata": {
        "id": "AEPjU-41rNKR"
      }
    },
    {
      "cell_type": "code",
      "execution_count": 1,
      "metadata": {
        "id": "kC4v3y_YZxKe",
        "colab": {
          "base_uri": "https://localhost:8080/"
        },
        "outputId": "d61e2632-6ddd-4061-da54-7e6feeaf7ed3"
      },
      "outputs": [
        {
          "output_type": "stream",
          "name": "stdout",
          "text": [
            "Looking in indexes: https://pypi.org/simple, https://us-python.pkg.dev/colab-wheels/public/simple/\n",
            "Requirement already satisfied: kaggle in /usr/local/lib/python3.7/dist-packages (1.5.12)\n",
            "Requirement already satisfied: python-dateutil in /usr/local/lib/python3.7/dist-packages (from kaggle) (2.8.2)\n",
            "Requirement already satisfied: python-slugify in /usr/local/lib/python3.7/dist-packages (from kaggle) (6.1.2)\n",
            "Requirement already satisfied: tqdm in /usr/local/lib/python3.7/dist-packages (from kaggle) (4.64.1)\n",
            "Requirement already satisfied: six>=1.10 in /usr/local/lib/python3.7/dist-packages (from kaggle) (1.15.0)\n",
            "Requirement already satisfied: requests in /usr/local/lib/python3.7/dist-packages (from kaggle) (2.23.0)\n",
            "Requirement already satisfied: urllib3 in /usr/local/lib/python3.7/dist-packages (from kaggle) (1.24.3)\n",
            "Requirement already satisfied: certifi in /usr/local/lib/python3.7/dist-packages (from kaggle) (2022.6.15)\n",
            "Requirement already satisfied: text-unidecode>=1.3 in /usr/local/lib/python3.7/dist-packages (from python-slugify->kaggle) (1.3)\n",
            "Requirement already satisfied: idna<3,>=2.5 in /usr/local/lib/python3.7/dist-packages (from requests->kaggle) (2.10)\n",
            "Requirement already satisfied: chardet<4,>=3.0.2 in /usr/local/lib/python3.7/dist-packages (from requests->kaggle) (3.0.4)\n"
          ]
        }
      ],
      "source": [
        "! pip install kaggle"
      ]
    },
    {
      "cell_type": "code",
      "source": [
        "! mkdir ~/.kaggle"
      ],
      "metadata": {
        "id": "BZ1rqX2-Z57p"
      },
      "execution_count": 2,
      "outputs": []
    },
    {
      "cell_type": "code",
      "source": [
        "cp kaggle.json ~/.kaggle/"
      ],
      "metadata": {
        "id": "7Tc4FTf1Z79v"
      },
      "execution_count": 3,
      "outputs": []
    },
    {
      "cell_type": "code",
      "source": [
        "! chmod 600 ~/.kaggle/kaggle.json"
      ],
      "metadata": {
        "id": "fBFdj6oIZ9W4"
      },
      "execution_count": 4,
      "outputs": []
    },
    {
      "cell_type": "code",
      "source": [
        "! kaggle datasets download hellbuoy/car-price-prediction"
      ],
      "metadata": {
        "id": "RvrDV9k5Z_Sp",
        "colab": {
          "base_uri": "https://localhost:8080/"
        },
        "outputId": "3a3919f7-6fd2-4f12-a871-247b6830f4a4"
      },
      "execution_count": 5,
      "outputs": [
        {
          "output_type": "stream",
          "name": "stdout",
          "text": [
            "Downloading car-price-prediction.zip to /content\n",
            "\r  0% 0.00/18.1k [00:00<?, ?B/s]\n",
            "\r100% 18.1k/18.1k [00:00<00:00, 10.7MB/s]\n"
          ]
        }
      ]
    },
    {
      "cell_type": "code",
      "source": [
        "! unzip car-price-prediction.zip"
      ],
      "metadata": {
        "id": "oZMkPDePaB-Y",
        "colab": {
          "base_uri": "https://localhost:8080/"
        },
        "outputId": "03f7c702-ebc8-4d0a-c329-181c0bffaf52"
      },
      "execution_count": 6,
      "outputs": [
        {
          "output_type": "stream",
          "name": "stdout",
          "text": [
            "Archive:  car-price-prediction.zip\n",
            "  inflating: CarPrice_Assignment.csv  \n",
            "  inflating: Data Dictionary - carprices.xlsx  \n"
          ]
        }
      ]
    },
    {
      "cell_type": "code",
      "source": [
        "import pandas as pd\n",
        "import numpy as np\n",
        "! pip install pd\n",
        "di= pd.read_csv(\"CarPrice_Assignment.csv\")\n",
        "df = di.copy()\n",
        "df.head()"
      ],
      "metadata": {
        "id": "vSR23wlwaH-x",
        "colab": {
          "base_uri": "https://localhost:8080/",
          "height": 441
        },
        "outputId": "b7e137fc-2e7c-4642-cca7-99ffaca3b36f"
      },
      "execution_count": 7,
      "outputs": [
        {
          "output_type": "stream",
          "name": "stdout",
          "text": [
            "Looking in indexes: https://pypi.org/simple, https://us-python.pkg.dev/colab-wheels/public/simple/\n",
            "Collecting pd\n",
            "  Downloading pd-0.0.4-py3-none-any.whl (6.5 kB)\n",
            "Installing collected packages: pd\n",
            "Successfully installed pd-0.0.4\n"
          ]
        },
        {
          "output_type": "execute_result",
          "data": {
            "text/plain": [
              "   car_ID  symboling                   CarName fueltype aspiration doornumber  \\\n",
              "0       1          3        alfa-romero giulia      gas        std        two   \n",
              "1       2          3       alfa-romero stelvio      gas        std        two   \n",
              "2       3          1  alfa-romero Quadrifoglio      gas        std        two   \n",
              "3       4          2               audi 100 ls      gas        std       four   \n",
              "4       5          2                audi 100ls      gas        std       four   \n",
              "\n",
              "       carbody drivewheel enginelocation  wheelbase  ...  enginesize  \\\n",
              "0  convertible        rwd          front       88.6  ...         130   \n",
              "1  convertible        rwd          front       88.6  ...         130   \n",
              "2    hatchback        rwd          front       94.5  ...         152   \n",
              "3        sedan        fwd          front       99.8  ...         109   \n",
              "4        sedan        4wd          front       99.4  ...         136   \n",
              "\n",
              "   fuelsystem  boreratio  stroke compressionratio horsepower  peakrpm citympg  \\\n",
              "0        mpfi       3.47    2.68              9.0        111     5000      21   \n",
              "1        mpfi       3.47    2.68              9.0        111     5000      21   \n",
              "2        mpfi       2.68    3.47              9.0        154     5000      19   \n",
              "3        mpfi       3.19    3.40             10.0        102     5500      24   \n",
              "4        mpfi       3.19    3.40              8.0        115     5500      18   \n",
              "\n",
              "   highwaympg    price  \n",
              "0          27  13495.0  \n",
              "1          27  16500.0  \n",
              "2          26  16500.0  \n",
              "3          30  13950.0  \n",
              "4          22  17450.0  \n",
              "\n",
              "[5 rows x 26 columns]"
            ],
            "text/html": [
              "\n",
              "  <div id=\"df-3f592aca-18bc-496f-98d0-e45971033cc2\">\n",
              "    <div class=\"colab-df-container\">\n",
              "      <div>\n",
              "<style scoped>\n",
              "    .dataframe tbody tr th:only-of-type {\n",
              "        vertical-align: middle;\n",
              "    }\n",
              "\n",
              "    .dataframe tbody tr th {\n",
              "        vertical-align: top;\n",
              "    }\n",
              "\n",
              "    .dataframe thead th {\n",
              "        text-align: right;\n",
              "    }\n",
              "</style>\n",
              "<table border=\"1\" class=\"dataframe\">\n",
              "  <thead>\n",
              "    <tr style=\"text-align: right;\">\n",
              "      <th></th>\n",
              "      <th>car_ID</th>\n",
              "      <th>symboling</th>\n",
              "      <th>CarName</th>\n",
              "      <th>fueltype</th>\n",
              "      <th>aspiration</th>\n",
              "      <th>doornumber</th>\n",
              "      <th>carbody</th>\n",
              "      <th>drivewheel</th>\n",
              "      <th>enginelocation</th>\n",
              "      <th>wheelbase</th>\n",
              "      <th>...</th>\n",
              "      <th>enginesize</th>\n",
              "      <th>fuelsystem</th>\n",
              "      <th>boreratio</th>\n",
              "      <th>stroke</th>\n",
              "      <th>compressionratio</th>\n",
              "      <th>horsepower</th>\n",
              "      <th>peakrpm</th>\n",
              "      <th>citympg</th>\n",
              "      <th>highwaympg</th>\n",
              "      <th>price</th>\n",
              "    </tr>\n",
              "  </thead>\n",
              "  <tbody>\n",
              "    <tr>\n",
              "      <th>0</th>\n",
              "      <td>1</td>\n",
              "      <td>3</td>\n",
              "      <td>alfa-romero giulia</td>\n",
              "      <td>gas</td>\n",
              "      <td>std</td>\n",
              "      <td>two</td>\n",
              "      <td>convertible</td>\n",
              "      <td>rwd</td>\n",
              "      <td>front</td>\n",
              "      <td>88.6</td>\n",
              "      <td>...</td>\n",
              "      <td>130</td>\n",
              "      <td>mpfi</td>\n",
              "      <td>3.47</td>\n",
              "      <td>2.68</td>\n",
              "      <td>9.0</td>\n",
              "      <td>111</td>\n",
              "      <td>5000</td>\n",
              "      <td>21</td>\n",
              "      <td>27</td>\n",
              "      <td>13495.0</td>\n",
              "    </tr>\n",
              "    <tr>\n",
              "      <th>1</th>\n",
              "      <td>2</td>\n",
              "      <td>3</td>\n",
              "      <td>alfa-romero stelvio</td>\n",
              "      <td>gas</td>\n",
              "      <td>std</td>\n",
              "      <td>two</td>\n",
              "      <td>convertible</td>\n",
              "      <td>rwd</td>\n",
              "      <td>front</td>\n",
              "      <td>88.6</td>\n",
              "      <td>...</td>\n",
              "      <td>130</td>\n",
              "      <td>mpfi</td>\n",
              "      <td>3.47</td>\n",
              "      <td>2.68</td>\n",
              "      <td>9.0</td>\n",
              "      <td>111</td>\n",
              "      <td>5000</td>\n",
              "      <td>21</td>\n",
              "      <td>27</td>\n",
              "      <td>16500.0</td>\n",
              "    </tr>\n",
              "    <tr>\n",
              "      <th>2</th>\n",
              "      <td>3</td>\n",
              "      <td>1</td>\n",
              "      <td>alfa-romero Quadrifoglio</td>\n",
              "      <td>gas</td>\n",
              "      <td>std</td>\n",
              "      <td>two</td>\n",
              "      <td>hatchback</td>\n",
              "      <td>rwd</td>\n",
              "      <td>front</td>\n",
              "      <td>94.5</td>\n",
              "      <td>...</td>\n",
              "      <td>152</td>\n",
              "      <td>mpfi</td>\n",
              "      <td>2.68</td>\n",
              "      <td>3.47</td>\n",
              "      <td>9.0</td>\n",
              "      <td>154</td>\n",
              "      <td>5000</td>\n",
              "      <td>19</td>\n",
              "      <td>26</td>\n",
              "      <td>16500.0</td>\n",
              "    </tr>\n",
              "    <tr>\n",
              "      <th>3</th>\n",
              "      <td>4</td>\n",
              "      <td>2</td>\n",
              "      <td>audi 100 ls</td>\n",
              "      <td>gas</td>\n",
              "      <td>std</td>\n",
              "      <td>four</td>\n",
              "      <td>sedan</td>\n",
              "      <td>fwd</td>\n",
              "      <td>front</td>\n",
              "      <td>99.8</td>\n",
              "      <td>...</td>\n",
              "      <td>109</td>\n",
              "      <td>mpfi</td>\n",
              "      <td>3.19</td>\n",
              "      <td>3.40</td>\n",
              "      <td>10.0</td>\n",
              "      <td>102</td>\n",
              "      <td>5500</td>\n",
              "      <td>24</td>\n",
              "      <td>30</td>\n",
              "      <td>13950.0</td>\n",
              "    </tr>\n",
              "    <tr>\n",
              "      <th>4</th>\n",
              "      <td>5</td>\n",
              "      <td>2</td>\n",
              "      <td>audi 100ls</td>\n",
              "      <td>gas</td>\n",
              "      <td>std</td>\n",
              "      <td>four</td>\n",
              "      <td>sedan</td>\n",
              "      <td>4wd</td>\n",
              "      <td>front</td>\n",
              "      <td>99.4</td>\n",
              "      <td>...</td>\n",
              "      <td>136</td>\n",
              "      <td>mpfi</td>\n",
              "      <td>3.19</td>\n",
              "      <td>3.40</td>\n",
              "      <td>8.0</td>\n",
              "      <td>115</td>\n",
              "      <td>5500</td>\n",
              "      <td>18</td>\n",
              "      <td>22</td>\n",
              "      <td>17450.0</td>\n",
              "    </tr>\n",
              "  </tbody>\n",
              "</table>\n",
              "<p>5 rows × 26 columns</p>\n",
              "</div>\n",
              "      <button class=\"colab-df-convert\" onclick=\"convertToInteractive('df-3f592aca-18bc-496f-98d0-e45971033cc2')\"\n",
              "              title=\"Convert this dataframe to an interactive table.\"\n",
              "              style=\"display:none;\">\n",
              "        \n",
              "  <svg xmlns=\"http://www.w3.org/2000/svg\" height=\"24px\"viewBox=\"0 0 24 24\"\n",
              "       width=\"24px\">\n",
              "    <path d=\"M0 0h24v24H0V0z\" fill=\"none\"/>\n",
              "    <path d=\"M18.56 5.44l.94 2.06.94-2.06 2.06-.94-2.06-.94-.94-2.06-.94 2.06-2.06.94zm-11 1L8.5 8.5l.94-2.06 2.06-.94-2.06-.94L8.5 2.5l-.94 2.06-2.06.94zm10 10l.94 2.06.94-2.06 2.06-.94-2.06-.94-.94-2.06-.94 2.06-2.06.94z\"/><path d=\"M17.41 7.96l-1.37-1.37c-.4-.4-.92-.59-1.43-.59-.52 0-1.04.2-1.43.59L10.3 9.45l-7.72 7.72c-.78.78-.78 2.05 0 2.83L4 21.41c.39.39.9.59 1.41.59.51 0 1.02-.2 1.41-.59l7.78-7.78 2.81-2.81c.8-.78.8-2.07 0-2.86zM5.41 20L4 18.59l7.72-7.72 1.47 1.35L5.41 20z\"/>\n",
              "  </svg>\n",
              "      </button>\n",
              "      \n",
              "  <style>\n",
              "    .colab-df-container {\n",
              "      display:flex;\n",
              "      flex-wrap:wrap;\n",
              "      gap: 12px;\n",
              "    }\n",
              "\n",
              "    .colab-df-convert {\n",
              "      background-color: #E8F0FE;\n",
              "      border: none;\n",
              "      border-radius: 50%;\n",
              "      cursor: pointer;\n",
              "      display: none;\n",
              "      fill: #1967D2;\n",
              "      height: 32px;\n",
              "      padding: 0 0 0 0;\n",
              "      width: 32px;\n",
              "    }\n",
              "\n",
              "    .colab-df-convert:hover {\n",
              "      background-color: #E2EBFA;\n",
              "      box-shadow: 0px 1px 2px rgba(60, 64, 67, 0.3), 0px 1px 3px 1px rgba(60, 64, 67, 0.15);\n",
              "      fill: #174EA6;\n",
              "    }\n",
              "\n",
              "    [theme=dark] .colab-df-convert {\n",
              "      background-color: #3B4455;\n",
              "      fill: #D2E3FC;\n",
              "    }\n",
              "\n",
              "    [theme=dark] .colab-df-convert:hover {\n",
              "      background-color: #434B5C;\n",
              "      box-shadow: 0px 1px 3px 1px rgba(0, 0, 0, 0.15);\n",
              "      filter: drop-shadow(0px 1px 2px rgba(0, 0, 0, 0.3));\n",
              "      fill: #FFFFFF;\n",
              "    }\n",
              "  </style>\n",
              "\n",
              "      <script>\n",
              "        const buttonEl =\n",
              "          document.querySelector('#df-3f592aca-18bc-496f-98d0-e45971033cc2 button.colab-df-convert');\n",
              "        buttonEl.style.display =\n",
              "          google.colab.kernel.accessAllowed ? 'block' : 'none';\n",
              "\n",
              "        async function convertToInteractive(key) {\n",
              "          const element = document.querySelector('#df-3f592aca-18bc-496f-98d0-e45971033cc2');\n",
              "          const dataTable =\n",
              "            await google.colab.kernel.invokeFunction('convertToInteractive',\n",
              "                                                     [key], {});\n",
              "          if (!dataTable) return;\n",
              "\n",
              "          const docLinkHtml = 'Like what you see? Visit the ' +\n",
              "            '<a target=\"_blank\" href=https://colab.research.google.com/notebooks/data_table.ipynb>data table notebook</a>'\n",
              "            + ' to learn more about interactive tables.';\n",
              "          element.innerHTML = '';\n",
              "          dataTable['output_type'] = 'display_data';\n",
              "          await google.colab.output.renderOutput(dataTable, element);\n",
              "          const docLink = document.createElement('div');\n",
              "          docLink.innerHTML = docLinkHtml;\n",
              "          element.appendChild(docLink);\n",
              "        }\n",
              "      </script>\n",
              "    </div>\n",
              "  </div>\n",
              "  "
            ]
          },
          "metadata": {},
          "execution_count": 7
        }
      ]
    },
    {
      "cell_type": "code",
      "source": [
        "import numpy as np\n",
        "import pandas as pd\n",
        "import seaborn as sns\n",
        "import matplotlib.pyplot as plt\n",
        "import missingno as msno\n",
        "#Librerias machine learning\n",
        "from sklearn.linear_model import LinearRegression\n",
        "from sklearn.svm import SVR\n",
        "from sklearn.ensemble import RandomForestRegressor\n",
        "from sklearn.model_selection import train_test_split\n",
        "from sklearn.metrics import median_absolute_error, r2_score, mean_squared_error , mean_squared_log_error\n",
        "from sklearn.tree import DecisionTreeRegressor\n",
        "from sklearn.model_selection import train_test_split\n",
        "from sklearn import preprocessing\n",
        "from sklearn.base import TransformerMixin\n",
        "from sklearn.model_selection import train_test_split\n",
        "from sklearn.preprocessing import MinMaxScaler\n",
        "import statsmodels.api as sm\n",
        "from sklearn.linear_model import LinearRegression\n",
        "from statsmodels.stats.outliers_influence import variance_inflation_factor\n",
        "from sklearn.metrics import r2_score\n",
        "from sklearn.model_selection import cross_validate, ShuffleSplit\n",
        "from sklearn.model_selection import learning_curve\n",
        "from sklearn.metrics import mean_squared_error\n",
        "from sklearn.impute import SimpleImputer\n",
        "from sklearn.preprocessing import OneHotEncoder\n",
        "from sklearn.preprocessing import FunctionTransformer\n",
        "from sklearn.pipeline import Pipeline\n",
        "from sklearn.compose import ColumnTransformer\n",
        "from sklearn.preprocessing import LabelEncoder\n",
        "from sklearn import utils\n",
        "from sklearn import preprocessing\n",
        "from sklearn.model_selection import train_test_split,KFold,GroupKFold\n",
        "import lightgbm as lgb\n",
        "import gc\n",
        "#Algunas librerias de utilidad"
      ],
      "metadata": {
        "id": "1iUkfNdVqy5H"
      },
      "execution_count": 8,
      "outputs": []
    },
    {
      "cell_type": "code",
      "source": [
        "dt=df.copy()"
      ],
      "metadata": {
        "id": "zh9jwErRo7o6"
      },
      "execution_count": 9,
      "outputs": []
    },
    {
      "cell_type": "code",
      "source": [
        "sig_cat_col = ['fueltype','carbody','drivewheel','enginetype','cylindernumber']"
      ],
      "metadata": {
        "id": "MrwR0PXun6RW"
      },
      "execution_count": 10,
      "outputs": []
    },
    {
      "cell_type": "code",
      "source": [
        "dummies = pd.get_dummies(df[sig_cat_col])\n"
      ],
      "metadata": {
        "id": "Z457bnO0ocWP"
      },
      "execution_count": 11,
      "outputs": []
    },
    {
      "cell_type": "code",
      "source": [
        "sig_cat_col_f = ['car_ID','fueltype','carbody','drivewheel','enginetype','cylindernumber','symboling','aspiration','drivewheel','fuelsystem','doornumber','carheight','stroke','compressionratio','peakrpm','citympg','highwaympg','CarName','enginelocation']\n",
        "#Se eliminan algunas columnas que contienen información que es muy específica y no aporta mucho a la predicción y otras que no tiene una relación directa con la variable 'price'."
      ],
      "metadata": {
        "id": "ypFxRQBWpIBC"
      },
      "execution_count": 12,
      "outputs": []
    },
    {
      "cell_type": "code",
      "source": [
        "df_car = pd.concat([dt, dummies], axis = 1)\n",
        "df_car.drop( (sig_cat_col_f), axis = 1, inplace = True)\n",
        "df_car.shape"
      ],
      "metadata": {
        "colab": {
          "base_uri": "https://localhost:8080/"
        },
        "id": "lzfFyjBOo5HW",
        "outputId": "e64412a9-fd82-49a8-a576-176c1660fe5d"
      },
      "execution_count": 13,
      "outputs": [
        {
          "output_type": "execute_result",
          "data": {
            "text/plain": [
              "(205, 32)"
            ]
          },
          "metadata": {},
          "execution_count": 13
        }
      ]
    },
    {
      "cell_type": "code",
      "source": [
        "df_c=df_car.copy()"
      ],
      "metadata": {
        "id": "1Wemq7q33H4c"
      },
      "execution_count": 14,
      "outputs": []
    },
    {
      "cell_type": "code",
      "source": [
        "cols= ['wheelbase','carlength','carwidth','curbweight','enginesize','boreratio','horsepower','price']"
      ],
      "metadata": {
        "id": "CjfwRKiSqein"
      },
      "execution_count": 15,
      "outputs": []
    },
    {
      "cell_type": "code",
      "source": [
        "scaler = preprocessing.StandardScaler()\n",
        "import warnings\n",
        "warnings.filterwarnings(\"ignore\")\n",
        "df_c[cols] = scaler.fit_transform(df_c[cols])\n",
        "#Normalización de las columnas \n"
      ],
      "metadata": {
        "id": "1ylME15ADPux"
      },
      "execution_count": 16,
      "outputs": []
    },
    {
      "cell_type": "code",
      "source": [
        "cols= ['wheelbase','carlength','carwidth','curbweight','enginesize','boreratio','horsepower','carbody_hatchback' ,'enginetype_ohcv','price']"
      ],
      "metadata": {
        "id": "hGUt5Au16_l_"
      },
      "execution_count": 17,
      "outputs": []
    },
    {
      "cell_type": "code",
      "source": [
        "ds=df_c.copy()\n",
        "ds=ds[cols]\n",
        " # Este es el df normalizado que servirá para realizar los modelos "
      ],
      "metadata": {
        "id": "bpMIjsFb7Ovg"
      },
      "execution_count": 18,
      "outputs": []
    },
    {
      "cell_type": "code",
      "source": [
        "ds2=df_car[cols]\n",
        "# Este es el df sin normalizar que servirá para realizar los modelos "
      ],
      "metadata": {
        "id": "RCUK8geS3hgE"
      },
      "execution_count": 19,
      "outputs": []
    },
    {
      "cell_type": "markdown",
      "source": [
        "# 2. Modelos supervisados."
      ],
      "metadata": {
        "id": "tOqKtMgDrbSw"
      }
    },
    {
      "cell_type": "code",
      "source": [
        "def RMSLE(y_actual, y_pred):\n",
        "    \n",
        "    return np.sqrt(mean_squared_error(y_actual, y_pred))"
      ],
      "metadata": {
        "id": "7A0VxoUB6geO"
      },
      "execution_count": 20,
      "outputs": []
    },
    {
      "cell_type": "code",
      "source": [
        "def rel_mrae(estimator, X, y):\n",
        "    preds = estimator.predict(X)\n",
        "    return np.mean(np.abs(preds-y)/y)"
      ],
      "metadata": {
        "id": "q621VfZSFYX2"
      },
      "execution_count": 21,
      "outputs": []
    },
    {
      "cell_type": "markdown",
      "source": [
        "2.1 Test de modelos con datos normalizados."
      ],
      "metadata": {
        "id": "ENT-lzIR3rrZ"
      }
    },
    {
      "cell_type": "code",
      "source": [
        "X1=ds.copy()"
      ],
      "metadata": {
        "id": "KkNlXSFsfsk_"
      },
      "execution_count": 22,
      "outputs": []
    },
    {
      "cell_type": "code",
      "source": [
        "y1 = X1.pop('price')"
      ],
      "metadata": {
        "id": "0744DZ6nfRbp"
      },
      "execution_count": 23,
      "outputs": []
    },
    {
      "cell_type": "code",
      "source": [
        "#--------Partición de los datos normalizados------------\n",
        "\n",
        "from sklearn.model_selection import train_test_split\n",
        "\n",
        "test_size = 0.3\n",
        "val_size  = test_size/(1-test_size) # Elementos de validación\n",
        "\n",
        "\n",
        "print (X1.shape, y1.shape)\n",
        "print (\"test size %.2f\"%test_size)\n",
        "print (\"val size is %.2f (relative to %.2f) \"%(val_size, 1-test_size))\n",
        "\n",
        "Xtr, Xts, ytr, yts = train_test_split(X1, y1, test_size=test_size)\n",
        "print (Xtr.shape, Xts.shape)"
      ],
      "metadata": {
        "colab": {
          "base_uri": "https://localhost:8080/"
        },
        "id": "gTro6YMfeyeG",
        "outputId": "0f95f7fa-c884-40f1-baa4-7b9e47c2299e"
      },
      "execution_count": 24,
      "outputs": [
        {
          "output_type": "stream",
          "name": "stdout",
          "text": [
            "(205, 9) (205,)\n",
            "test size 0.30\n",
            "val size is 0.43 (relative to 0.70) \n",
            "(143, 9) (62, 9)\n"
          ]
        }
      ]
    },
    {
      "cell_type": "code",
      "source": [
        "def report_cv_score(z):\n",
        "    \n",
        "    #RMSE en prueba y entrenamiento\n",
        "    lr_ts_score = z['test_score']*(-1)\n",
        "    lr_tr_score = z['train_score']*(-1)\n",
        "    lin_rmse_ts = np.sqrt(lr_ts_score)\n",
        "    lin_rmse_tr = np.sqrt(lr_tr_score)\n",
        "    print(\"RMSLE Test: \", \"{:.5f}\".format(np.mean(lin_rmse_ts)), \"(±\", \"{:.8f}\".format(np.std(lin_rmse_ts)),\")\")\n",
        "    print(\"RMSLE Train: \", \"{:.5f}\".format(np.mean(lin_rmse_tr)), \"(±\", \"{:.8f}\".format(np.std(lin_rmse_tr)),\")\")"
      ],
      "metadata": {
        "id": "k7R7EezZfE1S"
      },
      "execution_count": 25,
      "outputs": []
    },
    {
      "cell_type": "code",
      "source": [
        "estimator1 = LinearRegression()\n",
        "estimator2 = DecisionTreeRegressor(max_depth=5)\n",
        "estimator3 = RandomForestRegressor(n_estimators = 2,max_depth = 5)"
      ],
      "metadata": {
        "id": "AK7wpea_eqv2"
      },
      "execution_count": 26,
      "outputs": []
    },
    {
      "cell_type": "code",
      "source": [
        "test_size = 0.3\n",
        "val_size= test_size/(1-test_size)\n",
        "zscores = []\n",
        "estimators = [estimator1, estimator2, estimator3]\n",
        "for estimator in estimators:\n",
        "    print(\"---------\")\n",
        "    z = cross_validate(estimator, Xtr, ytr, return_train_score=True, return_estimator=False,\n",
        "                       scoring=\"neg_mean_squared_error\", cv=ShuffleSplit(n_splits=10, test_size=val_size))\n",
        "    report_cv_score(z)\n",
        "    zscores.append(np.mean(np.sqrt(z['test_score']*(-1))))\n",
        "best = np.argmin(zscores)\n",
        "print (\"Seleccionado: \", best)\n",
        "best_estimator = estimators[best]\n",
        "print (\"\\n Mejor modelo: \")\n",
        "print (best_estimator)"
      ],
      "metadata": {
        "colab": {
          "base_uri": "https://localhost:8080/"
        },
        "id": "hW8E7DEwfTUn",
        "outputId": "0c84d406-b4e5-43b3-a0bb-c756ff9d5466"
      },
      "execution_count": 27,
      "outputs": [
        {
          "output_type": "stream",
          "name": "stdout",
          "text": [
            "---------\n",
            "RMSLE Test:  0.46486 (± 0.06321956 )\n",
            "RMSLE Train:  0.35975 (± 0.02711306 )\n",
            "---------\n",
            "RMSLE Test:  0.43330 (± 0.16244402 )\n",
            "RMSLE Train:  0.11328 (± 0.01529450 )\n",
            "---------\n",
            "RMSLE Test:  0.39326 (± 0.09520106 )\n",
            "RMSLE Train:  0.24955 (± 0.05529508 )\n",
            "Seleccionado:  2\n",
            "\n",
            " Mejor modelo: \n",
            "RandomForestRegressor(max_depth=5, n_estimators=2)\n"
          ]
        }
      ]
    },
    {
      "cell_type": "markdown",
      "source": [
        "De los modelos implementados, se puede observar que los que poseen mejor desempeño haciendo uso de la métrica RMSE son el modelo DecisionTreeRegressor y RandomForestRegressor."
      ],
      "metadata": {
        "id": "ASiTCIaYh1Dy"
      }
    },
    {
      "cell_type": "markdown",
      "source": [
        "2.2 Selección de hiperparámetros para el modelo DecisionTreeRegressor\n"
      ],
      "metadata": {
        "id": "4RMA4bm-iN5Z"
      }
    },
    {
      "cell_type": "code",
      "source": [
        "def RMSLE(estimator, X,y):\n",
        "    preds = estimator.predict(X)\n",
        "    return np.sqrt(mean_squared_log_error(y, preds))"
      ],
      "metadata": {
        "id": "72QPieLxqBgB"
      },
      "execution_count": 28,
      "outputs": []
    },
    {
      "cell_type": "code",
      "source": [
        "from sklearn.model_selection import GridSearchCV"
      ],
      "metadata": {
        "id": "7LqpnYN28QRe"
      },
      "execution_count": 29,
      "outputs": []
    },
    {
      "cell_type": "code",
      "source": [
        "X=ds2.copy()"
      ],
      "metadata": {
        "id": "6WaYCSlqEL9h"
      },
      "execution_count": 30,
      "outputs": []
    },
    {
      "cell_type": "code",
      "source": [
        "y = X.pop('price')"
      ],
      "metadata": {
        "id": "GY7UQ6NdEQJS"
      },
      "execution_count": 31,
      "outputs": []
    },
    {
      "cell_type": "code",
      "source": [
        "#--------Partición de los datos sin normalizar------------\n",
        "\n",
        "from sklearn.model_selection import train_test_split\n",
        "\n",
        "test_size = 0.3\n",
        "val_size  = test_size/(1-test_size) # Elementos de validación\n",
        "\n",
        "\n",
        "print (X.shape, y.shape)\n",
        "print (\"test size %.2f\"%test_size)\n",
        "print (\"val size is %.2f (relative to %.2f) \"%(val_size, 1-test_size))\n",
        "\n",
        "#Xtr, ytr son los datos que se usan para entrenar el modelo\n",
        "#Xts, yts son los datos que se usan para probar el modelo (solo se usan para el testeo final de los modelos que se seleccionen)\n",
        "Xtr, Xts, ytr, yts = train_test_split(X, y, test_size=test_size)\n",
        "print (Xtr.shape, Xts.shape)"
      ],
      "metadata": {
        "colab": {
          "base_uri": "https://localhost:8080/"
        },
        "id": "dzkZnAQ3D-tq",
        "outputId": "1c14066f-378a-49a5-fbbe-5779d7632a90"
      },
      "execution_count": 32,
      "outputs": [
        {
          "output_type": "stream",
          "name": "stdout",
          "text": [
            "(205, 9) (205,)\n",
            "test size 0.30\n",
            "val size is 0.43 (relative to 0.70) \n",
            "(143, 9) (62, 9)\n"
          ]
        }
      ]
    },
    {
      "cell_type": "code",
      "source": [
        "#Esta celda puede tomar un tiempo considerable en su ejecución\n",
        "parametros = {'max_depth': [2,5,11,17]}\n",
        "\n",
        "\n",
        "decission_tree = GridSearchCV(estimator = estimator2,\n",
        "                        param_grid = parametros,\n",
        "                        cv = ShuffleSplit(n_splits= 10, test_size=val_size), \n",
        "                        scoring = 'neg_mean_squared_error',\n",
        "                        verbose = 1,\n",
        "                        return_train_score = True,\n",
        "                        n_jobs = -1)\n",
        "\n",
        "decission_tree.fit(Xtr, ytr)"
      ],
      "metadata": {
        "colab": {
          "base_uri": "https://localhost:8080/"
        },
        "id": "oFjtVcJ778Z1",
        "outputId": "8d205437-9e95-4f52-e336-bdc6386f253e"
      },
      "execution_count": 33,
      "outputs": [
        {
          "output_type": "stream",
          "name": "stdout",
          "text": [
            "Fitting 10 folds for each of 4 candidates, totalling 40 fits\n"
          ]
        },
        {
          "output_type": "execute_result",
          "data": {
            "text/plain": [
              "GridSearchCV(cv=ShuffleSplit(n_splits=10, random_state=None, test_size=0.4285714285714286,\n",
              "       train_size=None),\n",
              "             estimator=DecisionTreeRegressor(max_depth=5), n_jobs=-1,\n",
              "             param_grid={'max_depth': [2, 5, 11, 17]}, return_train_score=True,\n",
              "             scoring='neg_mean_squared_error', verbose=1)"
            ]
          },
          "metadata": {},
          "execution_count": 33
        }
      ]
    },
    {
      "cell_type": "code",
      "source": [
        "print(\"Mejor estimador Decision Tree: \",decission_tree.best_estimator_)\n",
        "print(\"Mejores parámetros para el estimador Decision Tree: \", decission_tree.best_params_)"
      ],
      "metadata": {
        "colab": {
          "base_uri": "https://localhost:8080/"
        },
        "id": "9qlhm5tS8wJW",
        "outputId": "083fca8a-42f6-41d3-8711-2f87a3d0885d"
      },
      "execution_count": 34,
      "outputs": [
        {
          "output_type": "stream",
          "name": "stdout",
          "text": [
            "Mejor estimador Decision Tree:  DecisionTreeRegressor(max_depth=5)\n",
            "Mejores parámetros para el estimador Decision Tree:  {'max_depth': 5}\n"
          ]
        }
      ]
    },
    {
      "cell_type": "markdown",
      "source": [
        "Implementación de los mejores parámetros con el modelo Desicion Tree:"
      ],
      "metadata": {
        "id": "-m86MbbS9Sd2"
      }
    },
    {
      "cell_type": "code",
      "source": [
        "Des_tree = DecisionTreeRegressor(max_depth=15)\n",
        "Des_tree.fit(Xtr, ytr)"
      ],
      "metadata": {
        "colab": {
          "base_uri": "https://localhost:8080/"
        },
        "id": "XYWXMnmv9Zv4",
        "outputId": "363d57c9-840e-4ac6-a04d-810f1e6ae722"
      },
      "execution_count": 35,
      "outputs": [
        {
          "output_type": "execute_result",
          "data": {
            "text/plain": [
              "DecisionTreeRegressor(max_depth=15)"
            ]
          },
          "metadata": {},
          "execution_count": 35
        }
      ]
    },
    {
      "cell_type": "code",
      "source": [
        "print('RMSLE del Decision Tree en entrenamiento: ',\"{:.5f}\".format(RMSLE(Des_tree,Xtr, ytr)))\n",
        "print('RMSLE del Decision Tree seleccionado: ',\"{:.5f}\".format(RMSLE(Des_tree,Xts, yts)))"
      ],
      "metadata": {
        "colab": {
          "base_uri": "https://localhost:8080/"
        },
        "id": "G5Tfhow090_v",
        "outputId": "0b6f8128-ad5d-4c57-f0b0-43250907ac51"
      },
      "execution_count": 36,
      "outputs": [
        {
          "output_type": "stream",
          "name": "stdout",
          "text": [
            "RMSLE del Decision Tree en entrenamiento:  0.01461\n",
            "RMSLE del Decision Tree seleccionado:  0.18525\n"
          ]
        }
      ]
    },
    {
      "cell_type": "code",
      "source": [
        "preds = Des_tree.predict(Xts)\n",
        "plt.scatter(yts,preds)\n",
        "plt.grid()\n",
        "plt.title(\"Predicciones modelo DesicionTree\", fontsize = 14, fontweight = 'bold')\n",
        "plt.xlabel(\"y_verdaderos\")\n",
        "plt.ylabel(\"y_prediccion\")\n"
      ],
      "metadata": {
        "colab": {
          "base_uri": "https://localhost:8080/",
          "height": 315
        },
        "id": "odtDCEcXv9ZL",
        "outputId": "d5540ae2-a0d1-4c7e-83a0-5310ed028417"
      },
      "execution_count": 37,
      "outputs": [
        {
          "output_type": "execute_result",
          "data": {
            "text/plain": [
              "Text(0, 0.5, 'y_prediccion')"
            ]
          },
          "metadata": {},
          "execution_count": 37
        },
        {
          "output_type": "display_data",
          "data": {
            "text/plain": [
              "<Figure size 432x288 with 1 Axes>"
            ],
            "image/png": "[encoded data removed]"
          },
          "metadata": {
            "needs_background": "light"
          }
        }
      ]
    },
    {
      "cell_type": "code",
      "source": [
        "Des_tree.score(Xtr, ytr), Des_tree.score(Xts, yts)"
      ],
      "metadata": {
        "colab": {
          "base_uri": "https://localhost:8080/"
        },
        "id": "6WX3FkMXEccR",
        "outputId": "4a9ccead-fdcf-4346-f820-ce1f81963548"
      },
      "execution_count": 38,
      "outputs": [
        {
          "output_type": "execute_result",
          "data": {
            "text/plain": [
              "(0.999540816553021, 0.8427121807170961)"
            ]
          },
          "metadata": {},
          "execution_count": 38
        }
      ]
    },
    {
      "cell_type": "markdown",
      "source": [
        "Se obtienen resultados de predicción mejores en comparación con el modelo lineal."
      ],
      "metadata": {
        "id": "TbqYWQwwGO4G"
      }
    },
    {
      "cell_type": "markdown",
      "source": [
        "2.3 Selección de hiperparámetros para el modelo Random Forest"
      ],
      "metadata": {
        "id": "Mog16R-3GYX_"
      }
    },
    {
      "cell_type": "code",
      "source": [
        "parametros = { 'n_estimators': [5,10,15],\n",
        "              'max_depth':[5,7,10]}\n",
        "\n",
        "forest_reg = GridSearchCV(estimator = estimator3,\n",
        "                        param_grid = parametros,\n",
        "                        cv = ShuffleSplit(n_splits= 5, test_size=val_size), \n",
        "                        scoring = 'neg_mean_squared_error',\n",
        "                        verbose = 1,\n",
        "                        return_train_score = True,\n",
        "                        n_jobs = -1)\n",
        "forest_reg.fit(Xtr, ytr)"
      ],
      "metadata": {
        "colab": {
          "base_uri": "https://localhost:8080/"
        },
        "id": "3CKD1K4eLnvU",
        "outputId": "444c2ce3-5108-4cbb-9278-94a1c99bff59"
      },
      "execution_count": 39,
      "outputs": [
        {
          "output_type": "stream",
          "name": "stdout",
          "text": [
            "Fitting 5 folds for each of 9 candidates, totalling 45 fits\n"
          ]
        },
        {
          "output_type": "execute_result",
          "data": {
            "text/plain": [
              "GridSearchCV(cv=ShuffleSplit(n_splits=5, random_state=None, test_size=0.4285714285714286,\n",
              "       train_size=None),\n",
              "             estimator=RandomForestRegressor(max_depth=5, n_estimators=2),\n",
              "             n_jobs=-1,\n",
              "             param_grid={'max_depth': [5, 7, 10], 'n_estimators': [5, 10, 15]},\n",
              "             return_train_score=True, scoring='neg_mean_squared_error',\n",
              "             verbose=1)"
            ]
          },
          "metadata": {},
          "execution_count": 39
        }
      ]
    },
    {
      "cell_type": "code",
      "source": [
        "print(\"Mejor estimador Random Forest: \",forest_reg.best_estimator_)\n",
        "print(\"Mejores parámetros para el estimador Random Forest: \", forest_reg.best_params_)"
      ],
      "metadata": {
        "id": "q0r-rHA4MBKa",
        "outputId": "9f4fbd8f-86a7-4ec3-a1e6-b034f4c30013",
        "colab": {
          "base_uri": "https://localhost:8080/"
        }
      },
      "execution_count": 40,
      "outputs": [
        {
          "output_type": "stream",
          "name": "stdout",
          "text": [
            "Mejor estimador Random Forest:  RandomForestRegressor(max_depth=7, n_estimators=15)\n",
            "Mejores parámetros para el estimador Random Forest:  {'max_depth': 7, 'n_estimators': 15}\n"
          ]
        }
      ]
    },
    {
      "cell_type": "code",
      "source": [
        "Rand_forest= RandomForestRegressor(n_estimators = 5,max_depth = 10)\n",
        "Rand_forest.fit(Xtr, ytr)"
      ],
      "metadata": {
        "colab": {
          "base_uri": "https://localhost:8080/"
        },
        "id": "OcmJ2r64evXj",
        "outputId": "4cd143e6-b488-48ef-ffbf-07ac515eeed4"
      },
      "execution_count": 41,
      "outputs": [
        {
          "output_type": "execute_result",
          "data": {
            "text/plain": [
              "RandomForestRegressor(max_depth=10, n_estimators=5)"
            ]
          },
          "metadata": {},
          "execution_count": 41
        }
      ]
    },
    {
      "cell_type": "code",
      "source": [
        "print('RMSLE del Decision Tree en entrenamiento: ',\"{:.5f}\".format(RMSLE(Rand_forest,Xtr, ytr)))\n",
        "print('RMSLE del Decision Tree seleccionado: ',\"{:.5f}\".format(RMSLE(Rand_forest,Xts, yts)))"
      ],
      "metadata": {
        "colab": {
          "base_uri": "https://localhost:8080/"
        },
        "id": "ZqsRnCfHs62y",
        "outputId": "f201a967-9b3f-4121-a6d5-2380b40f05ec"
      },
      "execution_count": 42,
      "outputs": [
        {
          "output_type": "stream",
          "name": "stdout",
          "text": [
            "RMSLE del Decision Tree en entrenamiento:  0.07266\n",
            "RMSLE del Decision Tree seleccionado:  0.15361\n"
          ]
        }
      ]
    },
    {
      "cell_type": "code",
      "source": [
        "preds = Rand_forest.predict(Xts)\n",
        "plt.scatter(yts,preds)\n",
        "plt.grid()\n",
        "plt.title(\"Predicciones modelo RandomForest\", fontsize = 14, fontweight = 'bold')\n",
        "plt.xlabel(\"y_verdaderos\")\n",
        "plt.ylabel(\"y_prediccion\")\n"
      ],
      "metadata": {
        "colab": {
          "base_uri": "https://localhost:8080/",
          "height": 315
        },
        "id": "ERchgsjbvu2t",
        "outputId": "9ee8c556-c435-499f-8fb3-05e0cbfdc0b1"
      },
      "execution_count": 43,
      "outputs": [
        {
          "output_type": "execute_result",
          "data": {
            "text/plain": [
              "Text(0, 0.5, 'y_prediccion')"
            ]
          },
          "metadata": {},
          "execution_count": 43
        },
        {
          "output_type": "display_data",
          "data": {
            "text/plain": [
              "<Figure size 432x288 with 1 Axes>"
            ],
            "image/png": "[encoded data removed]"
          },
          "metadata": {
            "needs_background": "light"
          }
        }
      ]
    },
    {
      "cell_type": "code",
      "source": [
        "\n",
        "print(Rand_forest.score(Xtr, ytr),Rand_forest.score(Xts, yts))"
      ],
      "metadata": {
        "colab": {
          "base_uri": "https://localhost:8080/"
        },
        "id": "gwFzAOgAlaCZ",
        "outputId": "24b9018a-74b9-41e3-afb9-7129cd1e207d"
      },
      "execution_count": 44,
      "outputs": [
        {
          "output_type": "stream",
          "name": "stdout",
          "text": [
            "0.983191339162915 0.9115138383889876\n"
          ]
        }
      ]
    },
    {
      "cell_type": "markdown",
      "source": [
        "2.4 Score en predicción usando los mejores modelos con los mejores hiperparámetros. "
      ],
      "metadata": {
        "id": "JxHKdTgkmMOT"
      }
    },
    {
      "cell_type": "code",
      "source": [
        "print(\"Resultados de predicción para los modelos haciendo uso de los mejores hiperparámetros:\")\n",
        "\n",
        "print(\"---------\")\n",
        "print(\"DesicionTree:\")\n",
        "print(\"Mejores parámetros para el estimador Decision Tree: \", decission_tree.best_params_)\n",
        "print('Score train =',\"{:.5f}\".format(Des_tree.score(Xtr, ytr)), 'Score test =',\"{:.5f}\".format(Des_tree.score(Xts, yts)))\n",
        "print(\"---------\")\n",
        "print(\"RandomForest:\")\n",
        "print(\"Mejores parámetros para el estimador Random Forest: \", forest_reg.best_params_)\n",
        "print('Score train =',\"{:.5f}\".format(Rand_forest.score(Xtr, ytr)),'Score test =',\"{:.5f}\".format(Rand_forest.score(Xts, yts)))"
      ],
      "metadata": {
        "colab": {
          "base_uri": "https://localhost:8080/"
        },
        "id": "Tr66ITrcmEe2",
        "outputId": "a5ea5641-b9e2-48a1-ebf6-04a368484f0c"
      },
      "execution_count": 45,
      "outputs": [
        {
          "output_type": "stream",
          "name": "stdout",
          "text": [
            "Resultados de predicción para los modelos haciendo uso de los mejores hiperparámetros:\n",
            "---------\n",
            "DesicionTree:\n",
            "Mejores parámetros para el estimador Decision Tree:  {'max_depth': 5}\n",
            "Score train = 0.99954 Score test = 0.84271\n",
            "---------\n",
            "RandomForest:\n",
            "Mejores parámetros para el estimador Random Forest:  {'max_depth': 7, 'n_estimators': 15}\n",
            "Score train = 0.98319 Score test = 0.91151\n"
          ]
        }
      ]
    },
    {
      "cell_type": "markdown",
      "source": [
        "# 3. Modelos no supervisados."
      ],
      "metadata": {
        "id": "yUDSWJJCHps3"
      }
    },
    {
      "cell_type": "markdown",
      "source": [
        "3.1 PCA"
      ],
      "metadata": {
        "id": "mQIzFuUtJc25"
      }
    },
    {
      "cell_type": "code",
      "source": [
        "from sklearn.decomposition import PCA\n",
        "components = [1,3,5,7,9]\n",
        "test_size = 0.3\n",
        "val_size  = test_size/(1-test_size)\n",
        "perf = [] #desempeños de los modelos\n",
        "Rdm_forest = RandomForestRegressor(n_estimators = 5,max_depth = 9)\n",
        "for i in components:\n",
        "    pca = PCA(n_components = i)\n",
        "    X_t = pca.fit_transform(X)\n",
        "    \n",
        "    #Partición de datos\n",
        "    #Xtv, ytv son los datos que se usan para entrenar el modelo\n",
        "    #Xts, yts son los datos que se usan para probar el modelo (solo se usan para el testeo final de los modelos que se seleccionen)\n",
        "    Xtv, Xts, ytv, yts = train_test_split(X_t, y, test_size=test_size)\n",
        "    print (Xtv.shape, Xts.shape)\n",
        "    \n",
        "    Rdm_forest.fit(Xtv, ytv)\n",
        "    perf.append(RMSLE(Rdm_forest,Xts, yts))\n",
        "    print('RMSLE del modelo con ', i ,'elementos: ',\"{:.5f}\".format(RMSLE(Rdm_forest,Xts, yts)))\n",
        "    print('------------')\n",
        "\n",
        "print('Mejor RMSLE: ',\"{:.5f}\".format(np.min(perf)),'  ; obtenido con ',components[np.argmin(perf)],' componentes para PCA')\n",
        "    "
      ],
      "metadata": {
        "colab": {
          "base_uri": "https://localhost:8080/"
        },
        "id": "Pw_-ZDoqnKlG",
        "outputId": "4d5fcef5-528a-4aae-cb76-a73e5ea764b8"
      },
      "execution_count": 46,
      "outputs": [
        {
          "output_type": "stream",
          "name": "stdout",
          "text": [
            "(143, 1) (62, 1)\n",
            "RMSLE del modelo con  1 elementos:  0.20636\n",
            "------------\n",
            "(143, 3) (62, 3)\n",
            "RMSLE del modelo con  3 elementos:  0.17113\n",
            "------------\n",
            "(143, 5) (62, 5)\n",
            "RMSLE del modelo con  5 elementos:  0.25453\n",
            "------------\n",
            "(143, 7) (62, 7)\n",
            "RMSLE del modelo con  7 elementos:  0.20715\n",
            "------------\n",
            "(143, 9) (62, 9)\n",
            "RMSLE del modelo con  9 elementos:  0.18654\n",
            "------------\n",
            "Mejor RMSLE:  0.17113   ; obtenido con  3  componentes para PCA\n"
          ]
        }
      ]
    },
    {
      "cell_type": "code",
      "source": [
        "#MEJOR PCA\n",
        "pca = PCA(n_components = 7)\n",
        "X_t1 = pca.fit_transform(X)\n",
        "Xtv, Xts, ytv, yts = train_test_split(X_t1, y, test_size=test_size)\n",
        "print (Xtv.shape, Xts.shape)"
      ],
      "metadata": {
        "colab": {
          "base_uri": "https://localhost:8080/"
        },
        "id": "NszQ_ybYIhMg",
        "outputId": "d6fe1d70-cff1-4169-f851-fa72d241b872"
      },
      "execution_count": 47,
      "outputs": [
        {
          "output_type": "stream",
          "name": "stdout",
          "text": [
            "(143, 7) (62, 7)\n"
          ]
        }
      ]
    },
    {
      "cell_type": "code",
      "source": [
        "\n",
        "parametros = { 'n_estimators': [5,10,15],\n",
        "              'max_depth':[5,7,9]}\n",
        "\n",
        "forest_reg = GridSearchCV(estimator = estimator3,\n",
        "                        param_grid = parametros,\n",
        "                        cv = ShuffleSplit(n_splits= 5, test_size=val_size), \n",
        "                        scoring = 'neg_mean_squared_error',\n",
        "                        verbose = 1,\n",
        "                        return_train_score = True,\n",
        "                        n_jobs = -1)\n",
        "forest_reg.fit(Xtv, ytv)"
      ],
      "metadata": {
        "colab": {
          "base_uri": "https://localhost:8080/"
        },
        "id": "MjGl9TP4Iqgf",
        "outputId": "3ecd0a90-9c86-4bd5-bcb5-b594959e0354"
      },
      "execution_count": 48,
      "outputs": [
        {
          "output_type": "stream",
          "name": "stdout",
          "text": [
            "Fitting 5 folds for each of 9 candidates, totalling 45 fits\n"
          ]
        },
        {
          "output_type": "execute_result",
          "data": {
            "text/plain": [
              "GridSearchCV(cv=ShuffleSplit(n_splits=5, random_state=None, test_size=0.4285714285714286,\n",
              "       train_size=None),\n",
              "             estimator=RandomForestRegressor(max_depth=5, n_estimators=2),\n",
              "             n_jobs=-1,\n",
              "             param_grid={'max_depth': [5, 7, 9], 'n_estimators': [5, 10, 15]},\n",
              "             return_train_score=True, scoring='neg_mean_squared_error',\n",
              "             verbose=1)"
            ]
          },
          "metadata": {},
          "execution_count": 48
        }
      ]
    },
    {
      "cell_type": "code",
      "source": [
        "print(\"Mejor estimador Random Forest: \",forest_reg.best_estimator_)\n",
        "print(\"Mejores parámetros para el estimador Random Forest: \", forest_reg.best_params_)"
      ],
      "metadata": {
        "colab": {
          "base_uri": "https://localhost:8080/"
        },
        "id": "jCZvDEf9IuV3",
        "outputId": "a5c5c869-b048-41ba-b923-c44cba066a7f"
      },
      "execution_count": 49,
      "outputs": [
        {
          "output_type": "stream",
          "name": "stdout",
          "text": [
            "Mejor estimador Random Forest:  RandomForestRegressor(max_depth=7, n_estimators=15)\n",
            "Mejores parámetros para el estimador Random Forest:  {'max_depth': 7, 'n_estimators': 15}\n"
          ]
        }
      ]
    },
    {
      "cell_type": "code",
      "source": [
        "#Mejor random forest para el PCA obtenido\n",
        "test_size = 0.3\n",
        "val_size  = test_size/(1-test_size)\n",
        "Xtv, Xts, ytv, yts = train_test_split(X_t1, y, test_size=test_size)\n",
        "print (Xtv.shape, Xts.shape)\n",
        "Rdm_forest = RandomForestRegressor(n_estimators = 15,max_depth = 9)\n",
        "Rdm_forest.fit(Xtv, ytv)"
      ],
      "metadata": {
        "colab": {
          "base_uri": "https://localhost:8080/"
        },
        "id": "_essLUkAI0eA",
        "outputId": "967fd41a-1a17-4c56-b4b9-50b5b64ac88e"
      },
      "execution_count": 50,
      "outputs": [
        {
          "output_type": "stream",
          "name": "stdout",
          "text": [
            "(143, 7) (62, 7)\n"
          ]
        },
        {
          "output_type": "execute_result",
          "data": {
            "text/plain": [
              "RandomForestRegressor(max_depth=9, n_estimators=15)"
            ]
          },
          "metadata": {},
          "execution_count": 50
        }
      ]
    },
    {
      "cell_type": "code",
      "source": [
        "preds = Rdm_forest.predict(Xts)\n",
        "plt.scatter(yts,preds)\n",
        "plt.grid()\n",
        "plt.title(\"Predicciones modelo RandomForest\", fontsize = 14, fontweight = 'bold')\n",
        "plt.xlabel(\"y_verdaderos\")\n",
        "plt.ylabel(\"y_prediccion\")\n"
      ],
      "metadata": {
        "colab": {
          "base_uri": "https://localhost:8080/",
          "height": 108
        },
        "id": "C9wpaTCcwDrs",
        "outputId": "cafa8da1-ce33-43a2-dbf9-cce7b91cd068"
      },
      "execution_count": 51,
      "outputs": [
        {
          "output_type": "execute_result",
          "data": {
            "text/plain": [
              "Text(0, 0.5, 'y_prediccion')"
            ]
          },
          "metadata": {},
          "execution_count": 51
        },
        {
          "output_type": "display_data",
          "data": {
            "text/plain": [
              "<Figure size 432x288 with 1 Axes>"
            ],
            "image/png": "[encoded data removed]"
          },
          "metadata": {
            "needs_background": "light"
          }
        }
      ]
    },
    {
      "cell_type": "code",
      "source": [
        "print('RMSLE del Random Forest en entrenamiento: ',\"{:.5f}\".format(RMSLE(Rdm_forest,Xtv, ytv)))\n",
        "print('RMSLE del Random Forest seleccionado: ',\"{:.5f}\".format(RMSLE(Rdm_forest,Xts, yts)))\n",
        "print('Score train =',\"{:.5f}\".format(Rdm_forest.score(Xtv, ytv)),'Score test =',\"{:.5f}\".format(Rdm_forest.score(Xts, yts)))"
      ],
      "metadata": {
        "colab": {
          "base_uri": "https://localhost:8080/"
        },
        "id": "4L3uosS8I3QP",
        "outputId": "5c60322a-525f-484e-cb00-8d4c1b992607"
      },
      "execution_count": 52,
      "outputs": [
        {
          "output_type": "stream",
          "name": "stdout",
          "text": [
            "RMSLE del Random Forest en entrenamiento:  0.07459\n",
            "RMSLE del Random Forest seleccionado:  0.17022\n",
            "Score train = 0.96288 Score test = 0.90788\n"
          ]
        }
      ]
    },
    {
      "cell_type": "markdown",
      "source": [
        "3.2 NMF"
      ],
      "metadata": {
        "id": "rIKEl9iiJwAf"
      }
    },
    {
      "cell_type": "code",
      "source": [
        "from sklearn.decomposition import NMF\n",
        "components = [1,3,5,7,9]\n",
        "test_size = 0.3\n",
        "val_size  = test_size/(1-test_size)\n",
        "perf = [] #desempeños de los modelos\n",
        "Des_tree = DecisionTreeRegressor(max_depth=15)\n",
        "for i in components:\n",
        "    nmf = NMF(n_components = i)\n",
        "    X_t = nmf.fit_transform(X)\n",
        "    \n",
        "    #Partición de datos\n",
        "    #Xtv, ytv son los datos que se usan para entrenar el modelo\n",
        "    #Xts, yts son los datos que se usan para probar el modelo (solo se usan para el testeo final de los modelos que se seleccionen)\n",
        "    Xtv, Xts, ytv, yts = train_test_split(X_t, y, test_size=test_size)\n",
        "    print (Xtv.shape, Xts.shape)\n",
        "    \n",
        "    Des_tree.fit(Xtv, ytv)\n",
        "    perf.append(RMSLE(Des_tree,Xts, yts))\n",
        "    print('RMSLE del modelo con ', i ,'elementos: ',\"{:.5f}\".format(RMSLE(Des_tree,Xts, yts)))\n",
        "    print('------------')\n",
        "\n",
        "print('Mejor RMSLE: ',\"{:.5f}\".format(np.min(perf)),'  ; obtenido con ',components[np.argmin(perf)],' componentes para PCA')"
      ],
      "metadata": {
        "colab": {
          "base_uri": "https://localhost:8080/"
        },
        "id": "yFmU1HenJuYZ",
        "outputId": "853d3997-e916-4ac1-c0aa-de408d118a26"
      },
      "execution_count": 53,
      "outputs": [
        {
          "output_type": "stream",
          "name": "stdout",
          "text": [
            "(143, 1) (62, 1)\n",
            "RMSLE del modelo con  1 elementos:  0.29454\n",
            "------------\n",
            "(143, 3) (62, 3)\n",
            "RMSLE del modelo con  3 elementos:  0.20934\n",
            "------------\n",
            "(143, 5) (62, 5)\n",
            "RMSLE del modelo con  5 elementos:  0.24822\n",
            "------------\n",
            "(143, 7) (62, 7)\n",
            "RMSLE del modelo con  7 elementos:  0.27676\n",
            "------------\n",
            "(143, 9) (62, 9)\n",
            "RMSLE del modelo con  9 elementos:  0.22946\n",
            "------------\n",
            "Mejor RMSLE:  0.20934   ; obtenido con  3  componentes para PCA\n"
          ]
        }
      ]
    },
    {
      "cell_type": "code",
      "source": [
        "#MEJOR NMF\n",
        "nmf = NMF(n_components = 3)\n",
        "X_t2 = nmf.fit_transform(X)\n",
        "Xtv, Xts, ytv, yts = train_test_split(X_t2, y, test_size=test_size)\n",
        "print (Xtv.shape, Xts.shape)"
      ],
      "metadata": {
        "colab": {
          "base_uri": "https://localhost:8080/"
        },
        "id": "PA39-9nYKM8f",
        "outputId": "f9f5fea6-5a27-4188-ed54-a682993033d5"
      },
      "execution_count": 54,
      "outputs": [
        {
          "output_type": "stream",
          "name": "stdout",
          "text": [
            "(143, 3) (62, 3)\n"
          ]
        }
      ]
    },
    {
      "cell_type": "code",
      "source": [
        "#Nota: esta celda requiere de gran tiempo para completarse\n",
        "parametros = {'max_depth': [2,5,8,12,15]}\n",
        "\n",
        "\n",
        "decission_tree = GridSearchCV(estimator = estimator2,\n",
        "                        param_grid = parametros,\n",
        "                        cv = ShuffleSplit(n_splits= 5, test_size=val_size), \n",
        "                        scoring = 'neg_mean_squared_error',\n",
        "                        verbose = 1,\n",
        "                        return_train_score = True,\n",
        "                        n_jobs = -1)\n",
        "\n",
        "decission_tree.fit(Xtv, ytv)"
      ],
      "metadata": {
        "colab": {
          "base_uri": "https://localhost:8080/"
        },
        "id": "x-LBic20KN43",
        "outputId": "10942763-7a5c-4b39-8ff3-f1c102e9afcf"
      },
      "execution_count": 55,
      "outputs": [
        {
          "output_type": "stream",
          "name": "stdout",
          "text": [
            "Fitting 5 folds for each of 5 candidates, totalling 25 fits\n"
          ]
        },
        {
          "output_type": "execute_result",
          "data": {
            "text/plain": [
              "GridSearchCV(cv=ShuffleSplit(n_splits=5, random_state=None, test_size=0.4285714285714286,\n",
              "       train_size=None),\n",
              "             estimator=DecisionTreeRegressor(max_depth=5), n_jobs=-1,\n",
              "             param_grid={'max_depth': [2, 5, 8, 12, 15]},\n",
              "             return_train_score=True, scoring='neg_mean_squared_error',\n",
              "             verbose=1)"
            ]
          },
          "metadata": {},
          "execution_count": 55
        }
      ]
    },
    {
      "cell_type": "code",
      "source": [
        "print(\"Mejor estimador Decision Tree: \",decission_tree.best_estimator_)\n",
        "print(\"Mejores parámetros para el estimador Decision Tree: \", decission_tree.best_params_)"
      ],
      "metadata": {
        "colab": {
          "base_uri": "https://localhost:8080/"
        },
        "id": "7oXASJaKKQUn",
        "outputId": "aa304b5f-293c-49f0-a45a-3633be867908"
      },
      "execution_count": 56,
      "outputs": [
        {
          "output_type": "stream",
          "name": "stdout",
          "text": [
            "Mejor estimador Decision Tree:  DecisionTreeRegressor(max_depth=5)\n",
            "Mejores parámetros para el estimador Decision Tree:  {'max_depth': 5}\n"
          ]
        }
      ]
    },
    {
      "cell_type": "code",
      "source": [
        "#Mejor Decision Tree para el NMF obtenido\n",
        "test_size = 0.3\n",
        "val_size  = test_size/(1-test_size)\n",
        "Xtv, Xts, ytv, yts = train_test_split(X_t2, y, test_size=test_size)\n",
        "print (Xtv.shape, Xts.shape)\n",
        "Des_tree = DecisionTreeRegressor(max_depth=8)\n",
        "Des_tree.fit(Xtv, ytv)"
      ],
      "metadata": {
        "colab": {
          "base_uri": "https://localhost:8080/"
        },
        "id": "TmBZda8kKS1f",
        "outputId": "0adac6eb-952c-4e12-dba1-84e574dacbc9"
      },
      "execution_count": 57,
      "outputs": [
        {
          "output_type": "stream",
          "name": "stdout",
          "text": [
            "(143, 3) (62, 3)\n"
          ]
        },
        {
          "output_type": "execute_result",
          "data": {
            "text/plain": [
              "DecisionTreeRegressor(max_depth=8)"
            ]
          },
          "metadata": {},
          "execution_count": 57
        }
      ]
    },
    {
      "cell_type": "code",
      "source": [
        "preds = Des_tree.predict(Xts)\n",
        "plt.scatter(yts,preds)\n",
        "plt.grid()\n",
        "plt.title(\"Predicciones modelo DecisionTree\", fontsize = 14, fontweight = 'bold')\n",
        "plt.xlabel(\"y_verdaderos\")\n",
        "plt.ylabel(\"y_prediccion\")\n"
      ],
      "metadata": {
        "colab": {
          "base_uri": "https://localhost:8080/",
          "height": 108
        },
        "id": "jrDOgC3Lwi4u",
        "outputId": "8f584c32-a351-4bee-8c7d-f018f514bc57"
      },
      "execution_count": 58,
      "outputs": [
        {
          "output_type": "execute_result",
          "data": {
            "text/plain": [
              "Text(0, 0.5, 'y_prediccion')"
            ]
          },
          "metadata": {},
          "execution_count": 58
        },
        {
          "output_type": "display_data",
          "data": {
            "text/plain": [
              "<Figure size 432x288 with 1 Axes>"
            ],
            "image/png": "[encoded data removed]"
          },
          "metadata": {
            "needs_background": "light"
          }
        }
      ]
    },
    {
      "cell_type": "code",
      "source": [
        "print('RMSLE del Decision Tree en entrenamiento: ',\"{:.5f}\".format(RMSLE(Des_tree,Xtv, ytv)))\n",
        "print('RMSLE del Decision Tree seleccionado: ',\"{:.5f}\".format(RMSLE(Des_tree,Xts, yts)))\n",
        "print('Score train =',\"{:.5f}\".format(Des_tree.score(Xtv, ytv)),'Score test =',\"{:.5f}\".format(Des_tree.score(Xts, yts)))"
      ],
      "metadata": {
        "colab": {
          "base_uri": "https://localhost:8080/"
        },
        "id": "GkoSecdEKXCn",
        "outputId": "0c67a8f8-54e8-4bb1-f346-831f9e5dfd23"
      },
      "execution_count": 59,
      "outputs": [
        {
          "output_type": "stream",
          "name": "stdout",
          "text": [
            "RMSLE del Decision Tree en entrenamiento:  0.08903\n",
            "RMSLE del Decision Tree seleccionado:  0.22232\n",
            "Score train = 0.97952 Score test = 0.73038\n"
          ]
        }
      ]
    },
    {
      "cell_type": "markdown",
      "source": [
        "#4. Curvas de aprendizaje "
      ],
      "metadata": {
        "id": "u7ecGWBxxNBh"
      }
    },
    {
      "cell_type": "markdown",
      "source": [
        "4.1 DecisionTree"
      ],
      "metadata": {
        "id": "5OON-0QJI6fh"
      }
    },
    {
      "cell_type": "code",
      "source": [
        "X=ds.copy()"
      ],
      "metadata": {
        "id": "oksH6TOBxRYS"
      },
      "execution_count": 60,
      "outputs": []
    },
    {
      "cell_type": "code",
      "source": [
        "y = X.pop('price')"
      ],
      "metadata": {
        "id": "ccnwMiGmtVqJ"
      },
      "execution_count": 61,
      "outputs": []
    },
    {
      "cell_type": "code",
      "source": [
        "test_size = 0.3\n",
        "val_size  = test_size/(1-test_size) # Elementos de validación\n",
        "\n",
        "\n",
        "print (X.shape, y.shape)\n",
        "print (\"test size %.2f\"%test_size)\n",
        "print (\"val size is %.2f (relative to %.2f) \"%(val_size, 1-test_size))\n",
        "\n",
        "#Xtv, ytv son los datos que se usan para entrenar el modelo\n",
        "#Xts, yts son los datos que se usan para probar el modelo (solo se usan para el testeo final de los modelos que se seleccionen)\n",
        "Xtr, Xts, ytr, yts = train_test_split(X, y, test_size=test_size)\n",
        "print (Xtv.shape, Xts.shape)"
      ],
      "metadata": {
        "colab": {
          "base_uri": "https://localhost:8080/"
        },
        "id": "oeUbBWctxtjH",
        "outputId": "22a098e1-8c2c-4df5-8b0b-32d8c383e646"
      },
      "execution_count": 62,
      "outputs": [
        {
          "output_type": "stream",
          "name": "stdout",
          "text": [
            "(205, 9) (205,)\n",
            "test size 0.30\n",
            "val size is 0.43 (relative to 0.70) \n",
            "(143, 3) (62, 9)\n"
          ]
        }
      ]
    },
    {
      "cell_type": "code",
      "source": [
        "Des_tree1 = DecisionTreeRegressor(max_depth=8)\n",
        "train_sizes, train_scores, valid_scores = learning_curve(Des_tree1, Xtv, ytv, train_sizes= [0.3, 0.5,0.7,0.9], \n",
        "                 scoring ='neg_root_mean_squared_error', cv = ShuffleSplit(n_splits=10, test_size=val_size))"
      ],
      "metadata": {
        "id": "UG0RMjxPx5Xa"
      },
      "execution_count": 63,
      "outputs": []
    },
    {
      "cell_type": "code",
      "source": [
        "def lc_plot(estimator,X,y):\n",
        "    train_sizes, train_scores, valid_scores = learning_curve(estimator, X, y, train_sizes= [0.3, 0.5,0.7,0.9], \n",
        "                 scoring ='neg_root_mean_squared_error', cv = ShuffleSplit(n_splits=10, test_size=val_size))\n",
        "    \n",
        "    train_scores = np.abs(train_scores)\n",
        "    valid_scores = np.abs(valid_scores)\n",
        "\n",
        "    train_mean = np.mean(train_scores, axis=1)\n",
        "    train_std = np.std(train_scores, axis=1)\n",
        "\n",
        "    valid_mean = np.mean(valid_scores, axis=1)\n",
        "    valid_std = np.std(valid_scores, axis=1)\n",
        "\n",
        "    plt.subplots(1, figsize=(5,5))\n",
        "    plt.plot(train_sizes, train_mean, '--', color=\"r\",  label=\"Puntaje entrenamiento\")\n",
        "    plt.plot(train_sizes, valid_mean, color=\"g\", label=\" Puntaje Test\")\n",
        "\n",
        "\n",
        "\n",
        "    plt.grid()\n",
        "    plt.title(\"Curva de aprendizaje\")\n",
        "    plt.xlabel(\"Datos enrenamiento\"), plt.ylabel(\"RMSLE\"), plt.legend(loc=\"best\")\n",
        "    plt.tight_layout()\n",
        "    plt.show()\n",
        "    return plt"
      ],
      "metadata": {
        "id": "zg63BRxeyZZU"
      },
      "execution_count": 64,
      "outputs": []
    },
    {
      "cell_type": "code",
      "source": [
        "Rdm_forest = RandomForestRegressor(n_estimators = 5,max_depth = 7)"
      ],
      "metadata": {
        "id": "cXsu_ch1y1y1"
      },
      "execution_count": 65,
      "outputs": []
    },
    {
      "cell_type": "code",
      "source": [
        "lc_plot(Rdm_forest,Xtr,ytr)"
      ],
      "metadata": {
        "colab": {
          "base_uri": "https://localhost:8080/",
          "height": 387
        },
        "id": "t0cXku2H4Mm7",
        "outputId": "ea9291cd-e05c-4e98-ea04-d33751a35d05"
      },
      "execution_count": 66,
      "outputs": [
        {
          "output_type": "display_data",
          "data": {
            "text/plain": [
              "<Figure size 360x360 with 1 Axes>"
            ],
            "image/png": "[encoded data removed]"
          },
          "metadata": {
            "needs_background": "light"
          }
        },
        {
          "output_type": "execute_result",
          "data": {
            "text/plain": [
              "<module 'matplotlib.pyplot' from '/usr/local/lib/python3.7/dist-packages/matplotlib/pyplot.py'>"
            ]
          },
          "metadata": {},
          "execution_count": 66
        }
      ]
    },
    {
      "cell_type": "markdown",
      "source": [
        "4.2 RandomForest"
      ],
      "metadata": {
        "id": "Bd6MllSNI_so"
      }
    },
    {
      "cell_type": "code",
      "source": [
        "Rdm_forest = RandomForestRegressor(n_estimators = 5,max_depth = 10)"
      ],
      "metadata": {
        "id": "TQdWh4Xb4lHQ"
      },
      "execution_count": 67,
      "outputs": []
    },
    {
      "cell_type": "code",
      "source": [
        "lc_plot(Rdm_forest,Xtr,ytr)"
      ],
      "metadata": {
        "colab": {
          "base_uri": "https://localhost:8080/",
          "height": 387
        },
        "id": "q6dshYDuJKby",
        "outputId": "15371894-535a-4149-870b-82e6c6039f12"
      },
      "execution_count": 68,
      "outputs": [
        {
          "output_type": "display_data",
          "data": {
            "text/plain": [
              "<Figure size 360x360 with 1 Axes>"
            ],
            "image/png": "[encoded data removed]"
          },
          "metadata": {
            "needs_background": "light"
          }
        },
        {
          "output_type": "execute_result",
          "data": {
            "text/plain": [
              "<module 'matplotlib.pyplot' from '/usr/local/lib/python3.7/dist-packages/matplotlib/pyplot.py'>"
            ]
          },
          "metadata": {},
          "execution_count": 68
        }
      ]
    },
    {
      "cell_type": "markdown",
      "source": [
        "4.3 Métodos no supervisados"
      ],
      "metadata": {
        "id": "qjumHefnJwJC"
      }
    },
    {
      "cell_type": "markdown",
      "source": [
        "4.3.1 PCA + RandomForest"
      ],
      "metadata": {
        "id": "ypMjN9PrKI7d"
      }
    },
    {
      "cell_type": "code",
      "source": [
        "from sklearn.decomposition import PCA\n",
        "pca = PCA(n_components = 5)\n",
        "X_t1 = pca.fit_transform(X)\n",
        "test_size = 0.3\n",
        "val_size  = test_size/(1-test_size)\n",
        "Xtr, Xts, ytr, yts = train_test_split(X_t1, y, test_size=test_size)\n",
        "Rdm_forest = RandomForestRegressor(n_estimators = 5,max_depth = 5)"
      ],
      "metadata": {
        "id": "6qdB9glOKBgP"
      },
      "execution_count": 69,
      "outputs": []
    },
    {
      "cell_type": "code",
      "source": [
        "lc_plot(Rdm_forest,Xtr,ytr)"
      ],
      "metadata": {
        "colab": {
          "base_uri": "https://localhost:8080/",
          "height": 387
        },
        "id": "zDZKXXY_KMFh",
        "outputId": "5d3b444b-5d92-4cef-dc8f-6f86756a21f9"
      },
      "execution_count": 70,
      "outputs": [
        {
          "output_type": "display_data",
          "data": {
            "text/plain": [
              "<Figure size 360x360 with 1 Axes>"
            ],
            "image/png": "[encoded data removed]"
          },
          "metadata": {
            "needs_background": "light"
          }
        },
        {
          "output_type": "execute_result",
          "data": {
            "text/plain": [
              "<module 'matplotlib.pyplot' from '/usr/local/lib/python3.7/dist-packages/matplotlib/pyplot.py'>"
            ]
          },
          "metadata": {},
          "execution_count": 70
        }
      ]
    },
    {
      "cell_type": "markdown",
      "source": [
        "4.3.2 NMF + DesicionTree"
      ],
      "metadata": {
        "id": "x8Qk-9X1KhZS"
      }
    },
    {
      "cell_type": "code",
      "source": [
        "X=ds2.copy()"
      ],
      "metadata": {
        "id": "-D2mpoH2LTyc"
      },
      "execution_count": 71,
      "outputs": []
    },
    {
      "cell_type": "code",
      "source": [
        "y = X.pop('price')"
      ],
      "metadata": {
        "id": "kqIxdROFLXc6"
      },
      "execution_count": 72,
      "outputs": []
    },
    {
      "cell_type": "code",
      "source": [
        "from sklearn.decomposition import NMF\n",
        "nmf = NMF(n_components = 3)\n",
        "X_t2 = nmf.fit_transform(X)\n",
        "test_size = 0.3\n",
        "val_size  = test_size/(1-test_size)\n",
        "Xtv, Xts, ytv, yts = train_test_split(X_t2, y, test_size=test_size)\n",
        "Des_tree = DecisionTreeRegressor(max_depth=15)"
      ],
      "metadata": {
        "id": "SqQtAcqTKn1p"
      },
      "execution_count": 73,
      "outputs": []
    },
    {
      "cell_type": "code",
      "source": [
        "lc_plot(Des_tree,Xtv,ytv)"
      ],
      "metadata": {
        "colab": {
          "base_uri": "https://localhost:8080/",
          "height": 387
        },
        "id": "1kOmJKVnKvfy",
        "outputId": "7a14cb0a-b16a-4fa8-f813-4772fe4a20ad"
      },
      "execution_count": 74,
      "outputs": [
        {
          "output_type": "display_data",
          "data": {
            "text/plain": [
              "<Figure size 360x360 with 1 Axes>"
            ],
            "image/png": "[encoded data removed]"
          },
          "metadata": {
            "needs_background": "light"
          }
        },
        {
          "output_type": "execute_result",
          "data": {
            "text/plain": [
              "<module 'matplotlib.pyplot' from '/usr/local/lib/python3.7/dist-packages/matplotlib/pyplot.py'>"
            ]
          },
          "metadata": {},
          "execution_count": 74
        }
      ]
    }
  ]
}